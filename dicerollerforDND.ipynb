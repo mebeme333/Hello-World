{
  "nbformat": 4,
  "nbformat_minor": 0,
  "metadata": {
    "colab": {
      "name": "Untitled2.ipynb",
      "version": "0.3.2",
      "provenance": [],
      "collapsed_sections": [],
      "include_colab_link": true
    },
    "kernelspec": {
      "name": "python3",
      "display_name": "Python 3"
    }
  },
  "cells": [
    {
      "cell_type": "markdown",
      "metadata": {
        "id": "view-in-github",
        "colab_type": "text"
      },
      "source": [
        "[View in Colaboratory](https://colab.research.google.com/github/mebeme333/Hello-World/blob/master/dicerollerforDND.ipynb)"
      ]
    },
    {
      "metadata": {
        "id": "_ZhNhuVqrRd3",
        "colab_type": "code",
        "colab": {
          "base_uri": "https://localhost:8080/",
          "height": 164
        },
        "outputId": "b27bdd86-3ae7-4a17-9476-131ec49d9ab2"
      },
      "cell_type": "code",
      "source": [
        "from random import randint\n",
        "num_of_dice = int(input(\"how many die you need?\"))\n",
        "dice_sides = int(input(\"how many sided die?\"))\n",
        "roll_dice = randint(1,dice_sides)\n",
        "\n",
        "\n",
        "while (num_of_dice -1 >= 0):\n",
        "  num_of_dice -=1\n",
        "  roll_dice = randint(1,dice_sides)\n",
        "  print(roll_dice)\n",
        "    \n",
        "\n",
        "\n",
        "\n"
      ],
      "execution_count": 17,
      "outputs": [
        {
          "output_type": "stream",
          "text": [
            "how many die you need?6\n",
            "how many sided die?6\n",
            "4\n",
            "1\n",
            "1\n",
            "2\n",
            "3\n",
            "4\n"
          ],
          "name": "stdout"
        }
      ]
    },
    {
      "metadata": {
        "id": "lFM3JeRPyb9k",
        "colab_type": "code",
        "colab": {}
      },
      "cell_type": "code",
      "source": [
        ""
      ],
      "execution_count": 0,
      "outputs": []
    }
  ]
}